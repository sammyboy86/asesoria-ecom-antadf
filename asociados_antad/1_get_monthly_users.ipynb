{
 "cells": [
  {
   "cell_type": "code",
   "execution_count": null,
   "metadata": {},
   "outputs": [],
   "source": [
    "import requests"
   ]
  },
  {
   "cell_type": "code",
   "execution_count": null,
   "metadata": {},
   "outputs": [],
   "source": [
    "\n",
    "def get_monthly_users(api_key, domain):\n",
    "    # Define the endpoint and parameters\n",
    "    url = f\"https://api.similarweb.com/v1/website/{domain}/total-traffic-and-engagement/visits\"\n",
    "    params = {\n",
    "        'api_key': api_key,\n",
    "        'start_date': '2023-09',  # Start date in YYYY-MM format\n",
    "        'end_date': '2023-09',    # End date in YYYY-MM format\n",
    "        'country': 'world',       # Adjust for specific country data, if needed\n",
    "        'main_domain_only': 'true'\n",
    "    }\n",
    "\n",
    "    # Make the API request\n",
    "    response = requests.get(url, params=params)\n",
    "\n",
    "    # Check if the request was successful\n",
    "    if response.status_code == 200:\n",
    "        data = response.json()\n",
    "        print(f\"Monthly users for {domain}:\")\n",
    "        for visit in data.get('visits', []):\n",
    "            print(f\"Date: {visit['date']}, Users: {visit['visits']}\")\n",
    "    else:\n",
    "        print(f\"Error: Unable to fetch data for {domain}. Status code: {response.status_code}\")\n",
    "\n",
    "# Example usage\n",
    "api_key = 'your_api_key_here'\n",
    "domains = ['example1.com', 'example2.com']  # Replace with the list of domains you want to track\n",
    "\n",
    "for domain in domains:\n",
    "    get_monthly_users(api_key, domain)\n"
   ]
  }
 ],
 "metadata": {
  "kernelspec": {
   "display_name": ".venv",
   "language": "python",
   "name": "python3"
  },
  "language_info": {
   "name": "python",
   "version": "3.11.9"
  }
 },
 "nbformat": 4,
 "nbformat_minor": 2
}
