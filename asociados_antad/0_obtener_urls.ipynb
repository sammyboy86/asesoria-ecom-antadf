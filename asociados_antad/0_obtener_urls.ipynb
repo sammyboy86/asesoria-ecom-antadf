{
 "cells": [
  {
   "cell_type": "markdown",
   "metadata": {},
   "source": [
    "### Script para obtener URLs de los sitios web de todas las tiendas de la ANTAD\n",
    "Este script utiliza el API de gpt para obtener los urls de los sitios web de todas las tiendas de la ANTAD y exportarlos en data/datos_asociados_antad.csv"
   ]
  },
  {
   "cell_type": "code",
   "execution_count": null,
   "metadata": {},
   "outputs": [],
   "source": [
    "import openai\n",
    "import pandas as pd"
   ]
  },
  {
   "cell_type": "code",
   "execution_count": null,
   "metadata": {},
   "outputs": [],
   "source": [
    "\n",
    "# Configura tu clave API de OpenAI\n",
    "openai.api_key = 'tu_api_key'\n",
    "\n",
    "# Lee el dataframe desde un archivo CSV\n",
    "df = pd.read_csv('ruta_al_archivo.csv')\n",
    "\n",
    "def buscar_url_tienda(tienda):\n",
    "    prompt = f\"Find the online store URL for '{tienda} tienda en línea'. Provide only the URL if available.\"\n",
    "    try:\n",
    "        response = openai.ChatCompletion.create(\n",
    "            model=\"gpt-3.5-turbo\",\n",
    "            messages=[\n",
    "                {\"role\": \"system\", \"content\": \"You are a helpful assistant.\"},\n",
    "                {\"role\": \"user\", \"content\": prompt}\n",
    "            ],\n",
    "            max_tokens=50\n",
    "        )\n",
    "        url = response['choices'][0]['message']['content'].strip()\n",
    "        return url\n",
    "    except Exception as e:\n",
    "        print(f\"Error buscando URL para {tienda}: {e}\")\n",
    "        return None"
   ]
  },
  {
   "cell_type": "code",
   "execution_count": null,
   "metadata": {},
   "outputs": [],
   "source": [
    "\n",
    "# Itera sobre el dataframe y busca las URLs si están vacías\n",
    "for index, row in df.iterrows():\n",
    "    if pd.isna(row['sitio_web']):\n",
    "        tienda = row['tienda']\n",
    "        url = buscar_url_tienda(tienda)\n",
    "        df.at[index, 'sitio_web'] = url\n",
    "        print(f\"URL encontrada para {tienda}: {url}\")\n",
    "\n",
    "# Guarda el dataframe actualizado en un nuevo archivo CSV\n",
    "df.to_csv('data/datos_asociados_antad.csv', index=False)"
   ]
  }
 ],
 "metadata": {
  "kernelspec": {
   "display_name": ".venv",
   "language": "python",
   "name": "python3"
  },
  "language_info": {
   "name": "python",
   "version": "3.11.9"
  }
 },
 "nbformat": 4,
 "nbformat_minor": 2
}
